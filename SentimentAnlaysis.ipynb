{
  "nbformat": 4,
  "nbformat_minor": 0,
  "metadata": {
    "colab": {
      "provenance": [],
      "gpuType": "T4"
    },
    "kernelspec": {
      "name": "python3",
      "display_name": "Python 3"
    },
    "language_info": {
      "name": "python"
    },
    "accelerator": "GPU"
  },
  "cells": [
    {
      "cell_type": "code",
      "execution_count": 34,
      "metadata": {
        "id": "BkLLSFlzoYF6"
      },
      "outputs": [],
      "source": [
        "import tensorflow as tf\n",
        "import random"
      ]
    },
    {
      "cell_type": "code",
      "source": [
        "def get_data(filename):\n",
        "    with open(filename, 'r') as f:\n",
        "        target = []\n",
        "        text_data = []\n",
        "        lines = f.readlines()\n",
        "    random.shuffle(lines)\n",
        "    for line in lines:\n",
        "        data = line.split('\\t')\n",
        "        if len(data) == 2:\n",
        "            target.append(int(data[0]))\n",
        "            text_data.append(data[1].rstrip())\n",
        "    return text_data,target"
      ],
      "metadata": {
        "id": "nC0nKZJstvYa"
      },
      "execution_count": 35,
      "outputs": []
    },
    {
      "cell_type": "code",
      "source": [
        "data,value = get_data(\"/content/training.txt\")"
      ],
      "metadata": {
        "id": "R_9KxMhdt5yk"
      },
      "execution_count": 36,
      "outputs": []
    },
    {
      "cell_type": "code",
      "source": [
        "len(value)"
      ],
      "metadata": {
        "colab": {
          "base_uri": "https://localhost:8080/"
        },
        "id": "oiWdGqn6uADd",
        "outputId": "ac3db852-ebd3-47b6-d93a-b3bcae85b0b1"
      },
      "execution_count": 37,
      "outputs": [
        {
          "output_type": "execute_result",
          "data": {
            "text/plain": [
              "7086"
            ]
          },
          "metadata": {},
          "execution_count": 37
        }
      ]
    },
    {
      "cell_type": "code",
      "source": [
        "import re"
      ],
      "metadata": {
        "id": "LMqoHp_HvRo2"
      },
      "execution_count": 38,
      "outputs": []
    },
    {
      "cell_type": "code",
      "source": [
        "def processed_tokens(text):\n",
        "  filt_text = re.sub(r'[^a-zA-Z0-9\\s]','',text)\n",
        "  filt_text = filt_text.split()\n",
        "  filt_text = [token.lower() for token in filt_text]\n",
        "  return filt_text"
      ],
      "metadata": {
        "id": "549Y-8ZyuOx4"
      },
      "execution_count": 39,
      "outputs": []
    },
    {
      "cell_type": "code",
      "source": [],
      "metadata": {
        "id": "jITVy6xn-mBM"
      },
      "execution_count": 39,
      "outputs": []
    },
    {
      "cell_type": "code",
      "source": [
        "def tokenize_text(text,min_frq=5):\n",
        "  review_token = [processed_tokens(review) for review in text]\n",
        "  token_list = [token for review in review_token for token in review]\n",
        "  token_frq_dict = {token:token_list.count(token) for token in set(token_list)}\n",
        "  most_frq_tokens = [tokens for tokens in token_frq_dict if token_frq_dict[tokens]>=min_frq ]\n",
        "  idx = range(len(most_frq_tokens))\n",
        "  token_idx = dict(zip(most_frq_tokens,idx))\n",
        "  return token_idx,len(most_frq_tokens)"
      ],
      "metadata": {
        "id": "bGypNAVovFkl"
      },
      "execution_count": 40,
      "outputs": []
    },
    {
      "cell_type": "code",
      "source": [
        "processed_tokens(str(data[0]))"
      ],
      "metadata": {
        "colab": {
          "base_uri": "https://localhost:8080/"
        },
        "id": "9rYoICKzvPLs",
        "outputId": "2d2e6309-9993-44e7-9620-e399f4f0e1c4"
      },
      "execution_count": 41,
      "outputs": [
        {
          "output_type": "execute_result",
          "data": {
            "text/plain": [
              "['not',\n",
              " 'because',\n",
              " 'i',\n",
              " 'hate',\n",
              " 'harry',\n",
              " 'potter',\n",
              " 'but',\n",
              " 'because',\n",
              " 'i',\n",
              " 'am',\n",
              " 'the',\n",
              " 'type',\n",
              " 'of',\n",
              " 'person',\n",
              " 'that',\n",
              " 'likes',\n",
              " 'it',\n",
              " 'when',\n",
              " 'the',\n",
              " 'main',\n",
              " 'character',\n",
              " 'dies']"
            ]
          },
          "metadata": {},
          "execution_count": 41
        }
      ]
    },
    {
      "cell_type": "code",
      "source": [
        "token_idx,num_token = tokenize_text(data)"
      ],
      "metadata": {
        "id": "a1zp5_Z0vh-h"
      },
      "execution_count": 42,
      "outputs": []
    },
    {
      "cell_type": "code",
      "source": [],
      "metadata": {
        "id": "u_0WS7XJwG2I"
      },
      "execution_count": 42,
      "outputs": []
    },
    {
      "cell_type": "code",
      "source": [
        "def get_max(data):\n",
        "  tokens_per_review = [len(text.split()) for text in data]\n",
        "  return max(tokens_per_review)"
      ],
      "metadata": {
        "id": "O7QlILE3yiJ_"
      },
      "execution_count": 43,
      "outputs": []
    },
    {
      "cell_type": "code",
      "source": [
        "get_max(data)"
      ],
      "metadata": {
        "colab": {
          "base_uri": "https://localhost:8080/"
        },
        "id": "rSCgTzrSzY5P",
        "outputId": "8b577de5-bd92-480c-9c11-c86e8aa5b216"
      },
      "execution_count": 44,
      "outputs": [
        {
          "output_type": "execute_result",
          "data": {
            "text/plain": [
              "40"
            ]
          },
          "metadata": {},
          "execution_count": 44
        }
      ]
    },
    {
      "cell_type": "code",
      "source": [
        " max_tokens = get_max(data)"
      ],
      "metadata": {
        "id": "RjiQZ-_y6qp4"
      },
      "execution_count": 45,
      "outputs": []
    },
    {
      "cell_type": "code",
      "source": [
        "from keras.utils.data_utils import pad_sequences\n",
        "import numpy as np"
      ],
      "metadata": {
        "id": "mUR1aOWm1FqU"
      },
      "execution_count": 46,
      "outputs": []
    },
    {
      "cell_type": "code",
      "source": [
        "def create_sequences(data,token_idx,max_tokens):\n",
        "  review_tokens = [processed_tokens(review) for review in data]\n",
        "  review_token_idx = map(lambda review:[token_idx[k] for k in review if k in token_idx.keys()] ,review_tokens)\n",
        "  pad_seq = pad_sequences(list(review_token_idx),maxlen = max_tokens)\n",
        "  return np.array(pad_seq)"
      ],
      "metadata": {
        "id": "_1Uw-bGyzcGJ"
      },
      "execution_count": 47,
      "outputs": []
    },
    {
      "cell_type": "code",
      "source": [
        "input_sequences = create_sequences(data, token_idx,max_tokens)"
      ],
      "metadata": {
        "id": "tFOboeNx1L6I"
      },
      "execution_count": 48,
      "outputs": []
    },
    {
      "cell_type": "code",
      "source": [
        "input_sequences"
      ],
      "metadata": {
        "colab": {
          "base_uri": "https://localhost:8080/"
        },
        "id": "csBzFIxE86_E",
        "outputId": "a1a63820-c6ed-4bbb-8b02-c7c885dd2ce1"
      },
      "execution_count": 49,
      "outputs": [
        {
          "output_type": "execute_result",
          "data": {
            "text/plain": [
              "array([[  0,   0,   0, ..., 276, 441, 111],\n",
              "       [  0,   0,   0, ..., 371, 428,  98],\n",
              "       [  0,   0,   0, ..., 430, 102, 408],\n",
              "       ...,\n",
              "       [  0,   0,   0, ..., 436, 428,  98],\n",
              "       [  0,   0,   0, ..., 318, 146, 283],\n",
              "       [  0,   0,   0, ..., 376, 129, 322]], dtype=int32)"
            ]
          },
          "metadata": {},
          "execution_count": 49
        }
      ]
    },
    {
      "cell_type": "code",
      "source": [
        "from tensorflow.keras.models import Sequential\n",
        "from tensorflow.keras.layers import Dense, GRU, Embedding\n",
        "from tensorflow.keras.optimizers import Adam"
      ],
      "metadata": {
        "id": "D-SSNFgy3qcO"
      },
      "execution_count": 50,
      "outputs": []
    },
    {
      "cell_type": "code",
      "source": [
        "emb_size = 8"
      ],
      "metadata": {
        "id": "sHRiO2c_9tNk"
      },
      "execution_count": 51,
      "outputs": []
    },
    {
      "cell_type": "code",
      "source": [
        "def define_model(num_tokens,max_tokens):\n",
        "  model = Sequential()\n",
        "  model.add(Embedding(input_dim = num_tokens,output_dim = emb_size,input_length = max_tokens,name = 'layer_embedding'))\n",
        "  model.add(GRU(units = 16,name = \"gru_1\",return_sequences=True))\n",
        "  model.add(GRU(units = 8,name = \"gru_2\",return_sequences=True))\n",
        "  model.add(GRU(units = 4,name = \"gru_3\"))\n",
        "  model.add(Dense(1,activation = 'sigmoid',name = 'dense_1'))\n",
        "  optimizer = Adam(lr=1e-3)\n",
        "  model.compile(loss = 'binary_crossentropy',optimizer=optimizer,metrics = ['accuracy'])\n",
        "  print(model.summary())\n",
        "  return model\n"
      ],
      "metadata": {
        "id": "e_xwoo_X1Zq6"
      },
      "execution_count": 52,
      "outputs": []
    },
    {
      "cell_type": "code",
      "source": [],
      "metadata": {
        "id": "CNWNf1_X9L4C"
      },
      "execution_count": 52,
      "outputs": []
    },
    {
      "cell_type": "code",
      "source": [
        "model = define_model(num_token,max_tokens)"
      ],
      "metadata": {
        "colab": {
          "base_uri": "https://localhost:8080/"
        },
        "id": "HaxBhKj57Kw0",
        "outputId": "c19ebfcf-0d03-47f5-a8b9-3f0cccce883d"
      },
      "execution_count": 53,
      "outputs": [
        {
          "output_type": "stream",
          "name": "stderr",
          "text": [
            "WARNING:absl:`lr` is deprecated in Keras optimizer, please use `learning_rate` or use the legacy optimizer, e.g.,tf.keras.optimizers.legacy.Adam.\n"
          ]
        },
        {
          "output_type": "stream",
          "name": "stdout",
          "text": [
            "Model: \"sequential\"\n",
            "_________________________________________________________________\n",
            " Layer (type)                Output Shape              Param #   \n",
            "=================================================================\n",
            " layer_embedding (Embedding)  (None, 40, 8)            3616      \n",
            "                                                                 \n",
            " gru_1 (GRU)                 (None, 40, 16)            1248      \n",
            "                                                                 \n",
            " gru_2 (GRU)                 (None, 40, 8)             624       \n",
            "                                                                 \n",
            " gru_3 (GRU)                 (None, 4)                 168       \n",
            "                                                                 \n",
            " dense_1 (Dense)             (None, 1)                 5         \n",
            "                                                                 \n",
            "=================================================================\n",
            "Total params: 5,661\n",
            "Trainable params: 5,661\n",
            "Non-trainable params: 0\n",
            "_________________________________________________________________\n",
            "None\n"
          ]
        }
      ]
    },
    {
      "cell_type": "code",
      "source": [
        "epochs = 10\n",
        "val_split = 0.05\n",
        "batch_size = 32\n",
        "emb_size = 8"
      ],
      "metadata": {
        "id": "WBrURVXk1_oH"
      },
      "execution_count": 55,
      "outputs": []
    },
    {
      "cell_type": "code",
      "source": [
        "def train_model(model,input_seq,y_train):\n",
        "  model.fit(input_seq,y_train,validation_split=0.05,epochs = epochs,batch_size = batch_size)\n",
        "  return model"
      ],
      "metadata": {
        "id": "xvRUOnAH24yv"
      },
      "execution_count": 56,
      "outputs": []
    },
    {
      "cell_type": "code",
      "source": [
        "\n",
        " model1 = train_model(model,input_sequences,np.array(value))"
      ],
      "metadata": {
        "colab": {
          "base_uri": "https://localhost:8080/"
        },
        "id": "7gV7CqPH5sfL",
        "outputId": "50acf819-319f-4c09-ac64-7be8417ed3b4"
      },
      "execution_count": 57,
      "outputs": [
        {
          "output_type": "stream",
          "name": "stdout",
          "text": [
            "Epoch 1/10\n",
            "211/211 [==============================] - 25s 84ms/step - loss: 0.3937 - accuracy: 0.8219 - val_loss: 0.1311 - val_accuracy: 0.9859\n",
            "Epoch 2/10\n",
            "211/211 [==============================] - 6s 26ms/step - loss: 0.1061 - accuracy: 0.9816 - val_loss: 0.0626 - val_accuracy: 0.9972\n",
            "Epoch 3/10\n",
            "211/211 [==============================] - 4s 17ms/step - loss: 0.0636 - accuracy: 0.9887 - val_loss: 0.0408 - val_accuracy: 0.9944\n",
            "Epoch 4/10\n",
            "211/211 [==============================] - 4s 20ms/step - loss: 0.0449 - accuracy: 0.9915 - val_loss: 0.0261 - val_accuracy: 0.9972\n",
            "Epoch 5/10\n",
            "211/211 [==============================] - 3s 16ms/step - loss: 0.0305 - accuracy: 0.9952 - val_loss: 0.0218 - val_accuracy: 0.9972\n",
            "Epoch 6/10\n",
            "211/211 [==============================] - 3s 12ms/step - loss: 0.0236 - accuracy: 0.9957 - val_loss: 0.0127 - val_accuracy: 1.0000\n",
            "Epoch 7/10\n",
            "211/211 [==============================] - 3s 13ms/step - loss: 0.0197 - accuracy: 0.9963 - val_loss: 0.0179 - val_accuracy: 0.9944\n",
            "Epoch 8/10\n",
            "211/211 [==============================] - 3s 17ms/step - loss: 0.0161 - accuracy: 0.9972 - val_loss: 0.0143 - val_accuracy: 0.9944\n",
            "Epoch 9/10\n",
            "211/211 [==============================] - 3s 13ms/step - loss: 0.0127 - accuracy: 0.9981 - val_loss: 0.0172 - val_accuracy: 0.9944\n",
            "Epoch 10/10\n",
            "211/211 [==============================] - 2s 11ms/step - loss: 0.0136 - accuracy: 0.9976 - val_loss: 0.0200 - val_accuracy: 0.9972\n"
          ]
        }
      ]
    },
    {
      "cell_type": "code",
      "source": [
        "import pandas as pd"
      ],
      "metadata": {
        "id": "k1bocLldeuon"
      },
      "execution_count": 58,
      "outputs": []
    },
    {
      "cell_type": "code",
      "source": [
        "def test_model(model,token_idx,max_tokens):\n",
        "  txt = [\"i like that movie\",\"awesome movies\",\"Terrible movie\",\"Story line is fine but fight sequences are very poor than Gadar 1. If they had worked well on fight sequence I would have given 5 stars..in any case it is already hit with 300cr... so no point at this time\",\"it was disgusting movie but interesting movie\",\"It's great and heart touching movie. Everyone should watch .Lovely love story and amazing action.\"]\n",
        "  pred = model.predict(create_sequences(txt,token_idx,max_tokens))\n",
        "  pred = [pred[i][0] for i in range(len(txt))]\n",
        "  output_df = pd.DataFrame({\"review text\":txt,\"prediction\":pred})\n",
        "  output_df = output_df.loc[:,['review text','prediction']]\n",
        "  print(output_df)"
      ],
      "metadata": {
        "id": "dExjT16KATiS"
      },
      "execution_count": 68,
      "outputs": []
    },
    {
      "cell_type": "code",
      "source": [
        "test_model(lo_model,token_idx,max_tokens)"
      ],
      "metadata": {
        "colab": {
          "base_uri": "https://localhost:8080/"
        },
        "id": "AcjONvMrWJP6",
        "outputId": "5ec175cd-b95f-46cb-b0d5-3e1089361a73"
      },
      "execution_count": 69,
      "outputs": [
        {
          "output_type": "stream",
          "name": "stdout",
          "text": [
            "1/1 [==============================] - 0s 21ms/step\n",
            "                                         review text  prediction\n",
            "0                                  i like that movie    0.899391\n",
            "1                                     awesome movies    0.997773\n",
            "2                                     Terrible movie    0.997761\n",
            "3  Story line is fine but fight sequences are ver...    0.002620\n",
            "4      it was disgusting movie but interesting movie    0.994968\n",
            "5  It's great and heart touching movie. Everyone ...    0.002631\n"
          ]
        }
      ]
    },
    {
      "cell_type": "code",
      "source": [
        "from tensorflow.python.keras.models import save_model"
      ],
      "metadata": {
        "id": "HAQHchU2pG9M"
      },
      "execution_count": 70,
      "outputs": []
    },
    {
      "cell_type": "code",
      "source": [
        "def save_model(model,path):\n",
        "  model.save(path)"
      ],
      "metadata": {
        "id": "gva-HdnmfsmH"
      },
      "execution_count": 71,
      "outputs": []
    },
    {
      "cell_type": "code",
      "source": [
        "save_model(model1,\"/content/model1.h5\")"
      ],
      "metadata": {
        "id": "wOFNVAYsoyGh"
      },
      "execution_count": 72,
      "outputs": []
    },
    {
      "cell_type": "code",
      "source": [],
      "metadata": {
        "id": "xYRpynvmo68f"
      },
      "execution_count": null,
      "outputs": []
    },
    {
      "cell_type": "code",
      "source": [
        "!mkdir model"
      ],
      "metadata": {
        "id": "QsUhTzKn9l_T"
      },
      "execution_count": 77,
      "outputs": []
    },
    {
      "cell_type": "code",
      "source": [
        "!tensorflowjs_converter --input_format keras model.h5 model/"
      ],
      "metadata": {
        "colab": {
          "base_uri": "https://localhost:8080/"
        },
        "id": "BaGeYphX_xa9",
        "outputId": "05cb355c-482b-4d8b-ccb3-a92716f546bd"
      },
      "execution_count": 78,
      "outputs": [
        {
          "output_type": "stream",
          "name": "stdout",
          "text": [
            "/bin/bash: line 1: tensorflowjs_converter: command not found\n"
          ]
        }
      ]
    },
    {
      "cell_type": "code",
      "source": [
        "token_idx\n"
      ],
      "metadata": {
        "colab": {
          "base_uri": "https://localhost:8080/"
        },
        "id": "qVFbC0hO_8AZ",
        "outputId": "941ac08b-d682-4e09-8aa5-aac8707b578a"
      },
      "execution_count": 73,
      "outputs": [
        {
          "output_type": "execute_result",
          "data": {
            "text/plain": [
              "{'people': 0,\n",
              " 'kind': 1,\n",
              " 'combining': 2,\n",
              " 'story': 3,\n",
              " 'dads': 4,\n",
              " 'evil': 5,\n",
              " 'wotshisface': 6,\n",
              " 'the': 7,\n",
              " 'throat': 8,\n",
              " 'thats': 9,\n",
              " 'is': 10,\n",
              " 'betterwe': 11,\n",
              " 'likes': 12,\n",
              " 'stupid': 13,\n",
              " 'take': 14,\n",
              " 'acceptable': 15,\n",
              " 'enjoy': 16,\n",
              " 'demons': 17,\n",
              " 'finished': 18,\n",
              " 'does': 19,\n",
              " 'dont': 20,\n",
              " 'hear': 21,\n",
              " 'count': 22,\n",
              " 'suicides': 23,\n",
              " 'kinda': 24,\n",
              " 'only': 25,\n",
              " 'ass': 26,\n",
              " 'until': 27,\n",
              " 'fun': 28,\n",
              " 'has': 29,\n",
              " 'bobbypin': 30,\n",
              " 'black': 31,\n",
              " 'tom': 32,\n",
              " 'there': 33,\n",
              " 'been': 34,\n",
              " 'those': 35,\n",
              " 'awesome': 36,\n",
              " 'fan': 37,\n",
              " 'money': 38,\n",
              " 'okay': 39,\n",
              " 'our': 40,\n",
              " 'from': 41,\n",
              " 'just': 42,\n",
              " 'might': 43,\n",
              " 'awful': 44,\n",
              " 'homosexuality': 45,\n",
              " 'do': 46,\n",
              " 'zen': 47,\n",
              " 'terrible': 48,\n",
              " 'can': 49,\n",
              " 'won': 50,\n",
              " 'ever': 51,\n",
              " 'personally': 52,\n",
              " 'community': 53,\n",
              " 'never': 54,\n",
              " 'go': 55,\n",
              " 'while': 56,\n",
              " 'escapades': 57,\n",
              " 'course': 58,\n",
              " 'almost': 59,\n",
              " 'wanted': 60,\n",
              " 'big': 61,\n",
              " 'mom': 62,\n",
              " 'amazing': 63,\n",
              " 'likeyeah': 64,\n",
              " 'felicias': 65,\n",
              " 'outshines': 66,\n",
              " 'eyre': 67,\n",
              " 'didnt': 68,\n",
              " 'being': 69,\n",
              " 'theater': 70,\n",
              " 'probably': 71,\n",
              " 'more': 72,\n",
              " 'having': 73,\n",
              " 'two': 74,\n",
              " 'jane': 75,\n",
              " 'hella': 76,\n",
              " 'god': 77,\n",
              " 'reality': 78,\n",
              " 'tell': 79,\n",
              " 'used': 80,\n",
              " 'blonds': 81,\n",
              " 'becoming': 82,\n",
              " 'rockhard': 83,\n",
              " 'mountain': 84,\n",
              " 'i': 85,\n",
              " 'both': 86,\n",
              " 'youre': 87,\n",
              " 'review': 88,\n",
              " 'your': 89,\n",
              " 'long': 90,\n",
              " 'times': 91,\n",
              " 'since': 92,\n",
              " 'slap': 93,\n",
              " 'snuck': 94,\n",
              " 'yet': 95,\n",
              " 'said': 96,\n",
              " 'and': 97,\n",
              " 'potter': 98,\n",
              " 'hat': 99,\n",
              " 'catcher': 100,\n",
              " 'me': 101,\n",
              " 'movies': 102,\n",
              " 'because': 103,\n",
              " 'id': 104,\n",
              " 'how': 105,\n",
              " 'lubb': 106,\n",
              " 'little': 107,\n",
              " 'else': 108,\n",
              " 'its': 109,\n",
              " 'sit': 110,\n",
              " 'dies': 111,\n",
              " 'dragged': 112,\n",
              " 'balls': 113,\n",
              " 'cock': 114,\n",
              " 'think': 115,\n",
              " 'watched': 116,\n",
              " 'day': 117,\n",
              " 'groaning': 118,\n",
              " 'saw': 119,\n",
              " 'why': 120,\n",
              " 'great': 121,\n",
              " 'am': 122,\n",
              " 'mtv': 123,\n",
              " 'crap': 124,\n",
              " 'gonna': 125,\n",
              " 'crazy': 126,\n",
              " 'even': 127,\n",
              " 'care': 128,\n",
              " 'says': 129,\n",
              " 'life': 130,\n",
              " '25': 131,\n",
              " 'must': 132,\n",
              " 'leah': 133,\n",
              " 'last': 134,\n",
              " 'acne': 135,\n",
              " 'rings': 136,\n",
              " 'b': 137,\n",
              " 'were': 138,\n",
              " 'first': 139,\n",
              " 'im': 140,\n",
              " 'everyone': 141,\n",
              " 'though': 142,\n",
              " 'but': 143,\n",
              " 'aching': 144,\n",
              " 'rocks': 145,\n",
              " 'you': 146,\n",
              " 'brokeback': 147,\n",
              " 'show': 148,\n",
              " 'profound': 149,\n",
              " 'so': 150,\n",
              " 'hates': 151,\n",
              " '3': 152,\n",
              " 'crappy': 153,\n",
              " 'us': 154,\n",
              " 'station': 155,\n",
              " 'after': 156,\n",
              " 'same': 157,\n",
              " 'watching': 158,\n",
              " 'well': 159,\n",
              " 'knows': 160,\n",
              " 'freakin': 161,\n",
              " 'noises': 162,\n",
              " 'was': 163,\n",
              " 'what': 164,\n",
              " 'kelsie': 165,\n",
              " '2': 166,\n",
              " 'will': 167,\n",
              " 'told': 168,\n",
              " 'now': 169,\n",
              " 'saying': 170,\n",
              " 'my': 171,\n",
              " 'bye': 172,\n",
              " 'real': 173,\n",
              " 'already': 174,\n",
              " 'who': 175,\n",
              " 'books': 176,\n",
              " 'most': 177,\n",
              " 'officially': 178,\n",
              " 'would': 179,\n",
              " 'boring': 180,\n",
              " 'liked': 181,\n",
              " 'that': 182,\n",
              " 'up': 183,\n",
              " 'guy': 184,\n",
              " 'than': 185,\n",
              " 'hoot': 186,\n",
              " 'are': 187,\n",
              " 'theres': 188,\n",
              " 'year': 189,\n",
              " 'sucking': 190,\n",
              " 'hung': 191,\n",
              " 'bit': 192,\n",
              " 'give': 193,\n",
              " 'gary': 194,\n",
              " 'try': 195,\n",
              " 'them': 196,\n",
              " 'no': 197,\n",
              " 'bogus': 198,\n",
              " 'head': 199,\n",
              " 'talking': 200,\n",
              " 'make': 201,\n",
              " 'fandom': 202,\n",
              " 'hey': 203,\n",
              " 'over': 204,\n",
              " 'hated': 205,\n",
              " 'serious': 206,\n",
              " 'desperately': 207,\n",
              " 'novel': 208,\n",
              " 'da': 209,\n",
              " 'worth': 210,\n",
              " 'where': 211,\n",
              " 'right': 212,\n",
              " 'around': 213,\n",
              " 'opinion': 214,\n",
              " 'cowboys': 215,\n",
              " 'mean': 216,\n",
              " 'in': 217,\n",
              " 'movie': 218,\n",
              " 'time': 219,\n",
              " 'off': 220,\n",
              " 'felicia': 221,\n",
              " 'kate': 222,\n",
              " 'she': 223,\n",
              " 'deep': 224,\n",
              " 'lord': 225,\n",
              " 'stars': 226,\n",
              " 'looks': 227,\n",
              " 'beautiful': 228,\n",
              " 'grabs': 229,\n",
              " 'if': 230,\n",
              " 'jokes': 231,\n",
              " 'thought': 232,\n",
              " 'making': 233,\n",
              " 's': 234,\n",
              " 'sucked': 235,\n",
              " 'trousers': 236,\n",
              " 'down': 237,\n",
              " 'malfoy': 238,\n",
              " 'wait': 239,\n",
              " 'still': 240,\n",
              " 'action': 241,\n",
              " 'things': 242,\n",
              " 'least': 243,\n",
              " 'film': 244,\n",
              " 'best': 245,\n",
              " 'hate': 246,\n",
              " 'could': 247,\n",
              " 'always': 248,\n",
              " 'actually': 249,\n",
              " 'to': 250,\n",
              " 'quiz': 251,\n",
              " 'sentry': 252,\n",
              " 'inaccurate': 253,\n",
              " 'not': 254,\n",
              " 'very': 255,\n",
              " 'good': 256,\n",
              " 'be': 257,\n",
              " 'goin': 258,\n",
              " 'this': 259,\n",
              " 'past': 260,\n",
              " 'a': 261,\n",
              " 'such': 262,\n",
              " 'stand': 263,\n",
              " 'got': 264,\n",
              " 'anything': 265,\n",
              " 'daniel': 266,\n",
              " 'hes': 267,\n",
              " 'into': 268,\n",
              " 'better': 269,\n",
              " 'begin': 270,\n",
              " 'laughed': 271,\n",
              " 'an': 272,\n",
              " 'interesting': 273,\n",
              " 'going': 274,\n",
              " 'seeing': 275,\n",
              " 'main': 276,\n",
              " 'as': 277,\n",
              " 'vigor': 278,\n",
              " 'read': 279,\n",
              " 'stories': 280,\n",
              " 'we': 281,\n",
              " 'awards': 282,\n",
              " 'know': 283,\n",
              " 'something': 284,\n",
              " 'either': 285,\n",
              " 'bad': 286,\n",
              " 'before': 287,\n",
              " 'book': 288,\n",
              " 'turned': 289,\n",
              " 'picture': 290,\n",
              " 'loved': 291,\n",
              " 'some': 292,\n",
              " 'made': 293,\n",
              " 'lot': 294,\n",
              " 'news': 295,\n",
              " 'virgin': 296,\n",
              " 'theme': 297,\n",
              " 'dudeee': 298,\n",
              " 'seen': 299,\n",
              " 'material': 300,\n",
              " 'or': 301,\n",
              " 'side': 302,\n",
              " 'yeah': 303,\n",
              " 'thinking': 304,\n",
              " 'freaking': 305,\n",
              " 'his': 306,\n",
              " 'too': 307,\n",
              " 'days': 308,\n",
              " 'mission': 309,\n",
              " 'havent': 310,\n",
              " 'went': 311,\n",
              " 'hill': 312,\n",
              " 'all': 313,\n",
              " 'kids': 314,\n",
              " 'lovethe': 315,\n",
              " 'table': 316,\n",
              " 'end': 317,\n",
              " 'letting': 318,\n",
              " 'through': 319,\n",
              " 'lol': 320,\n",
              " 'had': 321,\n",
              " 'differently': 322,\n",
              " 'soo': 323,\n",
              " 'left': 324,\n",
              " 'really': 325,\n",
              " 'at': 326,\n",
              " 'keys': 327,\n",
              " 'watch': 328,\n",
              " 'new': 329,\n",
              " 'sure': 330,\n",
              " 'person': 331,\n",
              " 'sick': 332,\n",
              " 'thing': 333,\n",
              " 'for': 334,\n",
              " 'school': 335,\n",
              " 'cant': 336,\n",
              " 'few': 337,\n",
              " 'luv': 338,\n",
              " 'three': 339,\n",
              " 'shit': 340,\n",
              " 'gin': 341,\n",
              " 'needs': 342,\n",
              " 'way': 343,\n",
              " 'every': 344,\n",
              " 'of': 345,\n",
              " 'horrible': 346,\n",
              " 'quite': 347,\n",
              " 'cleaning': 348,\n",
              " 'retarted': 349,\n",
              " 'draco': 350,\n",
              " 'whos': 351,\n",
              " 'lost': 352,\n",
              " 'back': 353,\n",
              " 'talk': 354,\n",
              " 'helped': 355,\n",
              " 'then': 356,\n",
              " 'pretty': 357,\n",
              " 'despised': 358,\n",
              " 'which': 359,\n",
              " 'he': 360,\n",
              " 'bitch': 361,\n",
              " 'totally': 362,\n",
              " 'xmen': 363,\n",
              " 'have': 364,\n",
              " 'their': 365,\n",
              " 'want': 366,\n",
              " 'ill': 367,\n",
              " 'out': 368,\n",
              " 'cowboy': 369,\n",
              " 'here': 370,\n",
              " 'like': 371,\n",
              " 'crash': 372,\n",
              " 'depressing': 373,\n",
              " 'dash': 374,\n",
              " 'also': 375,\n",
              " 'anyone': 376,\n",
              " 'apparently': 377,\n",
              " 'should': 378,\n",
              " 'anyway': 379,\n",
              " 'on': 380,\n",
              " 'angels': 381,\n",
              " 'friday': 382,\n",
              " 'start': 383,\n",
              " 'oh': 384,\n",
              " 'far': 385,\n",
              " 'ok': 386,\n",
              " 'did': 387,\n",
              " 'series': 388,\n",
              " 'about': 389,\n",
              " 'panting': 390,\n",
              " 'reminded': 391,\n",
              " 'coz': 392,\n",
              " 'get': 393,\n",
              " 'second': 394,\n",
              " 'silent': 395,\n",
              " 'ive': 396,\n",
              " 'excellent': 397,\n",
              " 'doing': 398,\n",
              " 'hips': 399,\n",
              " 'they': 400,\n",
              " 'heard': 401,\n",
              " 'enjoyed': 402,\n",
              " 'other': 403,\n",
              " 'suck': 404,\n",
              " 'insanely': 405,\n",
              " 'miss': 406,\n",
              " 'man': 407,\n",
              " 'friends': 408,\n",
              " 'one': 409,\n",
              " 'cruise': 410,\n",
              " 'cool': 411,\n",
              " 'iii': 412,\n",
              " 'may': 413,\n",
              " 'with': 414,\n",
              " 'kirsten': 415,\n",
              " 'doesnt': 416,\n",
              " 'song': 417,\n",
              " 'night': 418,\n",
              " 'say': 419,\n",
              " 'bonkers': 420,\n",
              " 'sad': 421,\n",
              " 'sucks': 422,\n",
              " 'again': 423,\n",
              " 'absolutely': 424,\n",
              " 'see': 425,\n",
              " 'when': 426,\n",
              " 'world': 427,\n",
              " 'harry': 428,\n",
              " 'it': 429,\n",
              " 'reading': 430,\n",
              " 'vinci': 431,\n",
              " 'type': 432,\n",
              " 'these': 433,\n",
              " 'whimpering': 434,\n",
              " 'feel': 435,\n",
              " 'love': 436,\n",
              " 'by': 437,\n",
              " 'fact': 438,\n",
              " 'impossible': 439,\n",
              " 'joining': 440,\n",
              " 'character': 441,\n",
              " 'plain': 442,\n",
              " 'him': 443,\n",
              " 'gay': 444,\n",
              " 'tye': 445,\n",
              " 'much': 446,\n",
              " 'fucking': 447,\n",
              " 'code': 448,\n",
              " 'wrong': 449,\n",
              " 'glad': 450,\n",
              " 'place': 451}"
            ]
          },
          "metadata": {},
          "execution_count": 73
        }
      ]
    },
    {
      "cell_type": "code",
      "source": [
        "import csv"
      ],
      "metadata": {
        "id": "c3pgA0C_BXDU"
      },
      "execution_count": 74,
      "outputs": []
    },
    {
      "cell_type": "code",
      "source": [
        "def create_csv(token_idx,path):\n",
        "    with open(path, 'w') as csvfile:\n",
        "        writer = csv.writer(csvfile)\n",
        "        for key in token_idx.keys():\n",
        "            writer.writerow([key,token_idx[key]])"
      ],
      "metadata": {
        "id": "Z_iO-_5TAge0"
      },
      "execution_count": 75,
      "outputs": []
    },
    {
      "cell_type": "code",
      "source": [
        "create_csv(token_idx,\"/content/token_idx.csv\")"
      ],
      "metadata": {
        "id": "q06We4P7Bf3S"
      },
      "execution_count": 76,
      "outputs": []
    },
    {
      "cell_type": "code",
      "source": [
        "import pandas as pd"
      ],
      "metadata": {
        "id": "AFDvRCTLBu4t"
      },
      "execution_count": null,
      "outputs": []
    },
    {
      "cell_type": "code",
      "source": [
        "df = pd.read_csv(\"/content/token_idx.csv\")"
      ],
      "metadata": {
        "id": "VOuw_DS_B5T6"
      },
      "execution_count": null,
      "outputs": []
    },
    {
      "cell_type": "code",
      "source": [
        "max(token_idx.values())"
      ],
      "metadata": {
        "colab": {
          "base_uri": "https://localhost:8080/"
        },
        "id": "YeESUYpkB-_J",
        "outputId": "f758e108-1b0e-4bac-b69d-7d455eb71be3"
      },
      "execution_count": null,
      "outputs": [
        {
          "output_type": "execute_result",
          "data": {
            "text/plain": [
              "451"
            ]
          },
          "metadata": {},
          "execution_count": 56
        }
      ]
    },
    {
      "cell_type": "code",
      "source": [
        "token_idx['all']"
      ],
      "metadata": {
        "colab": {
          "base_uri": "https://localhost:8080/"
        },
        "id": "Jwplp_J9B_45",
        "outputId": "38b0ec38-ffd1-45de-f1b6-02aa2940a855"
      },
      "execution_count": null,
      "outputs": [
        {
          "output_type": "execute_result",
          "data": {
            "text/plain": [
              "393"
            ]
          },
          "metadata": {},
          "execution_count": 57
        }
      ]
    },
    {
      "cell_type": "code",
      "source": [
        "!npx create-react-app my-app"
      ],
      "metadata": {
        "colab": {
          "base_uri": "https://localhost:8080/"
        },
        "id": "hqmYMk3UD770",
        "outputId": "5145c0d9-e258-4f76-816f-59884c2da090"
      },
      "execution_count": null,
      "outputs": [
        {
          "output_type": "stream",
          "name": "stdout",
          "text": [
            "\u001b[K\u001b[?25hnpx: installed 67 in 6.493s\n",
            "\n",
            "Creating a new React app in \u001b[32m/content/my-app\u001b[39m.\n",
            "\n",
            "Installing packages. This might take a couple of minutes.\n",
            "Installing \u001b[36mreact\u001b[39m, \u001b[36mreact-dom\u001b[39m, and \u001b[36mreact-scripts\u001b[39m with \u001b[36mcra-template\u001b[39m...\n",
            "\n",
            "\u001b[K\u001b[?25h\n",
            "> core-js@3.32.1 postinstall /content/my-app/node_modules/core-js\n",
            "> node -e \"try{require('./postinstall')}catch(e){}\"\n",
            "\n",
            "\n",
            "> core-js-pure@3.32.1 postinstall /content/my-app/node_modules/core-js-pure\n",
            "> node -e \"try{require('./postinstall')}catch(e){}\"\n",
            "\n",
            "\u001b[K\u001b[?25h+ cra-template@1.2.0\n",
            "+ react-scripts@5.0.1\n",
            "+ react@18.2.0\n",
            "+ react-dom@18.2.0\n",
            "added 1452 packages from 629 contributors in 72.945s\n",
            "\n",
            "241 packages are looking for funding\n",
            "  run `npm fund` for details\n",
            "\n",
            "\n",
            "Initialized a git repository.\n",
            "\n",
            "Installing template dependencies using npm...\n",
            "\u001b[K\u001b[?25h\u001b[37;40mnpm\u001b[0m \u001b[0m\u001b[30;43mWARN\u001b[0m\u001b[35m\u001b[0m @apideck/better-ajv-errors@0.3.6 requires a peer of ajv@>=8 but none is installed. You must install peer dependencies yourself.\n",
            "\u001b[0m\u001b[37;40mnpm\u001b[0m \u001b[0m\u001b[30;43mWARN\u001b[0m\u001b[35m\u001b[0m fork-ts-checker-webpack-plugin@6.5.3 requires a peer of typescript@>= 2.7 but none is installed. You must install peer dependencies yourself.\n",
            "\u001b[0m\u001b[37;40mnpm\u001b[0m \u001b[0m\u001b[30;43mWARN\u001b[0m\u001b[35m\u001b[0m tsutils@3.21.0 requires a peer of typescript@>=2.8.0 || >= 3.2.0-dev || >= 3.3.0-dev || >= 3.4.0-dev || >= 3.5.0-dev || >= 3.6.0-dev || >= 3.6.0-beta || >= 3.7.0-dev || >= 3.7.0-beta but none is installed. You must install peer dependencies yourself.\n",
            "\u001b[0m\u001b[37;40mnpm\u001b[0m \u001b[0m\u001b[30;43mWARN\u001b[0m \u001b[0m\u001b[35moptional\u001b[0m SKIPPING OPTIONAL DEPENDENCY: fsevents@2.3.2 (node_modules/fsevents):\n",
            "\u001b[0m\u001b[37;40mnpm\u001b[0m \u001b[0m\u001b[30;43mWARN\u001b[0m \u001b[0m\u001b[35mnotsup\u001b[0m SKIPPING OPTIONAL DEPENDENCY: Unsupported platform for fsevents@2.3.2: wanted {\"os\":\"darwin\",\"arch\":\"any\"} (current: {\"os\":\"linux\",\"arch\":\"x64\"})\n",
            "\u001b[0m\n",
            "+ web-vitals@2.1.4\n",
            "+ @testing-library/user-event@13.5.0\n",
            "+ @testing-library/react@13.4.0\n",
            "+ @testing-library/jest-dom@5.17.0\n",
            "added 61 packages from 86 contributors in 13.581s\n",
            "\n",
            "245 packages are looking for funding\n",
            "  run `npm fund` for details\n",
            "\n",
            "Removing template package using npm...\n",
            "\n",
            "\u001b[K\u001b[?25h\u001b[37;40mnpm\u001b[0m \u001b[0m\u001b[30;43mWARN\u001b[0m\u001b[35m\u001b[0m @apideck/better-ajv-errors@0.3.6 requires a peer of ajv@>=8 but none is installed. You must install peer dependencies yourself.\n",
            "\u001b[0m\u001b[37;40mnpm\u001b[0m \u001b[0m\u001b[30;43mWARN\u001b[0m\u001b[35m\u001b[0m fork-ts-checker-webpack-plugin@6.5.3 requires a peer of typescript@>= 2.7 but none is installed. You must install peer dependencies yourself.\n",
            "\u001b[0m\u001b[37;40mnpm\u001b[0m \u001b[0m\u001b[30;43mWARN\u001b[0m\u001b[35m\u001b[0m tsutils@3.21.0 requires a peer of typescript@>=2.8.0 || >= 3.2.0-dev || >= 3.3.0-dev || >= 3.4.0-dev || >= 3.5.0-dev || >= 3.6.0-dev || >= 3.6.0-beta || >= 3.7.0-dev || >= 3.7.0-beta but none is installed. You must install peer dependencies yourself.\n",
            "\u001b[0m\u001b[37;40mnpm\u001b[0m \u001b[0m\u001b[30;43mWARN\u001b[0m \u001b[0m\u001b[35moptional\u001b[0m SKIPPING OPTIONAL DEPENDENCY: fsevents@2.3.2 (node_modules/fsevents):\n",
            "\u001b[0m\u001b[37;40mnpm\u001b[0m \u001b[0m\u001b[30;43mWARN\u001b[0m \u001b[0m\u001b[35mnotsup\u001b[0m SKIPPING OPTIONAL DEPENDENCY: Unsupported platform for fsevents@2.3.2: wanted {\"os\":\"darwin\",\"arch\":\"any\"} (current: {\"os\":\"linux\",\"arch\":\"x64\"})\n",
            "\u001b[0m\n",
            "\u001b[K\u001b[?25hremoved 1 package and audited 1513 packages in 7.637s\n",
            "\n",
            "245 packages are looking for funding\n",
            "  run `npm fund` for details\n",
            "\n",
            "found 1 \u001b[91mhigh\u001b[0m severity vulnerability\n",
            "  run `npm audit fix` to fix them, or `npm audit` for details\n",
            "\u001b[K\u001b[?25hGit commit not created Error: Command failed: git commit -m \"Initialize project using Create React App\"\n",
            "\u001b[90m    at checkExecSyncError (child_process.js:616:11)\u001b[39m\n",
            "\u001b[90m    at execSync (child_process.js:652:15)\u001b[39m\n",
            "    at tryGitCommit (/content/my-app/node_modules/\u001b[4mreact-scripts\u001b[24m/scripts/init.js:62:5)\n",
            "    at module.exports (/content/my-app/node_modules/\u001b[4mreact-scripts\u001b[24m/scripts/init.js:350:25)\n",
            "    at [eval]:3:14\n",
            "\u001b[90m    at Script.runInThisContext (vm.js:133:18)\u001b[39m\n",
            "\u001b[90m    at Object.runInThisContext (vm.js:310:38)\u001b[39m\n",
            "\u001b[90m    at internal/process/execution.js:77:19\u001b[39m\n",
            "    at [eval]-wrapper:6:22\n",
            "\u001b[90m    at evalScript (internal/process/execution.js:76:60)\u001b[39m {\n",
            "  status: \u001b[33m128\u001b[39m,\n",
            "  signal: \u001b[1mnull\u001b[22m,\n",
            "  output: [ \u001b[1mnull\u001b[22m, \u001b[1mnull\u001b[22m, \u001b[1mnull\u001b[22m ],\n",
            "  pid: \u001b[33m1534\u001b[39m,\n",
            "  stdout: \u001b[1mnull\u001b[22m,\n",
            "  stderr: \u001b[1mnull\u001b[22m\n",
            "}\n",
            "Removing .git directory...\n",
            "\n",
            "Success! Created my-app at /content/my-app\n",
            "Inside that directory, you can run several commands:\n",
            "\n",
            "\u001b[36m  npm start\u001b[39m\n",
            "    Starts the development server.\n",
            "\n",
            "\u001b[36m  npm run build\u001b[39m\n",
            "    Bundles the app into static files for production.\n",
            "\n",
            "\u001b[36m  npm test\u001b[39m\n",
            "    Starts the test runner.\n",
            "\n",
            "\u001b[36m  npm run eject\u001b[39m\n",
            "    Removes this tool and copies build dependencies, configuration files\n",
            "    and scripts into the app directory. If you do this, you can’t go back!\n",
            "\n",
            "We suggest that you begin by typing:\n",
            "\n",
            "\u001b[36m  cd\u001b[39m my-app\n",
            "  \u001b[36mnpm start\u001b[39m\n",
            "\n",
            "Happy hacking!\n"
          ]
        }
      ]
    },
    {
      "cell_type": "code",
      "source": [
        "d = pd.read_csv('/content/testdata.txt')"
      ],
      "metadata": {
        "id": "PoZiKnscaOOP",
        "colab": {
          "base_uri": "https://localhost:8080/",
          "height": 182
        },
        "outputId": "8f2064fc-ee5a-4d76-a878-5ea958192f02"
      },
      "execution_count": null,
      "outputs": [
        {
          "output_type": "error",
          "ename": "NameError",
          "evalue": "ignored",
          "traceback": [
            "\u001b[0;31m---------------------------------------------------------------------------\u001b[0m",
            "\u001b[0;31mNameError\u001b[0m                                 Traceback (most recent call last)",
            "\u001b[0;32m<ipython-input-1-569d15e49732>\u001b[0m in \u001b[0;36m<cell line: 1>\u001b[0;34m()\u001b[0m\n\u001b[0;32m----> 1\u001b[0;31m \u001b[0md\u001b[0m \u001b[0;34m=\u001b[0m \u001b[0mpd\u001b[0m\u001b[0;34m.\u001b[0m\u001b[0mread_csv\u001b[0m\u001b[0;34m(\u001b[0m\u001b[0;34m'/content/testdata.txt'\u001b[0m\u001b[0;34m)\u001b[0m\u001b[0;34m\u001b[0m\u001b[0;34m\u001b[0m\u001b[0m\n\u001b[0m",
            "\u001b[0;31mNameError\u001b[0m: name 'pd' is not defined"
          ]
        }
      ]
    },
    {
      "cell_type": "code",
      "source": [
        "import pickle as pkl\n",
        "pkl.dump(model1, 'my_model_knn.pkl.pkl')"
      ],
      "metadata": {
        "colab": {
          "base_uri": "https://localhost:8080/",
          "height": 200
        },
        "id": "-b7KtY15lSXZ",
        "outputId": "5813c8f8-9e2d-4a73-8da0-5d2ba433c3f2"
      },
      "execution_count": null,
      "outputs": [
        {
          "output_type": "error",
          "ename": "TypeError",
          "evalue": "ignored",
          "traceback": [
            "\u001b[0;31m---------------------------------------------------------------------------\u001b[0m",
            "\u001b[0;31mTypeError\u001b[0m                                 Traceback (most recent call last)",
            "\u001b[0;32m<ipython-input-33-0b5f498a12a7>\u001b[0m in \u001b[0;36m<cell line: 2>\u001b[0;34m()\u001b[0m\n\u001b[1;32m      1\u001b[0m \u001b[0;32mimport\u001b[0m \u001b[0mpickle\u001b[0m \u001b[0;32mas\u001b[0m \u001b[0mpkl\u001b[0m\u001b[0;34m\u001b[0m\u001b[0;34m\u001b[0m\u001b[0m\n\u001b[0;32m----> 2\u001b[0;31m \u001b[0mpkl\u001b[0m\u001b[0;34m.\u001b[0m\u001b[0mdump\u001b[0m\u001b[0;34m(\u001b[0m\u001b[0mmodel1\u001b[0m\u001b[0;34m,\u001b[0m \u001b[0;34m'my_model_knn.pkl.pkl'\u001b[0m\u001b[0;34m)\u001b[0m\u001b[0;34m\u001b[0m\u001b[0;34m\u001b[0m\u001b[0m\n\u001b[0m",
            "\u001b[0;31mTypeError\u001b[0m: file must have a 'write' attribute"
          ]
        }
      ]
    },
    {
      "cell_type": "code",
      "source": [
        "model1.save('/content/model.h5')"
      ],
      "metadata": {
        "id": "X6IriOi1v6Q0"
      },
      "execution_count": null,
      "outputs": []
    },
    {
      "cell_type": "code",
      "source": [
        "from tensorflow.keras.models import load_model"
      ],
      "metadata": {
        "id": "ca1z2WnPxUzw"
      },
      "execution_count": 1,
      "outputs": []
    },
    {
      "cell_type": "code",
      "source": [
        "lo_model = load_model(\"/content/model.h5\")"
      ],
      "metadata": {
        "id": "-6LMDUXtxEL5"
      },
      "execution_count": 2,
      "outputs": []
    },
    {
      "cell_type": "code",
      "source": [
        "lo_model.summary()"
      ],
      "metadata": {
        "colab": {
          "base_uri": "https://localhost:8080/"
        },
        "id": "SJMhodxnxNHt",
        "outputId": "d95e17a7-19ce-4eb5-afc2-3bd5168cf4f0"
      },
      "execution_count": 3,
      "outputs": [
        {
          "output_type": "stream",
          "name": "stdout",
          "text": [
            "Model: \"sequential\"\n",
            "_________________________________________________________________\n",
            " Layer (type)                Output Shape              Param #   \n",
            "=================================================================\n",
            " layer_embedding (Embedding)  (None, 40, 8)            3616      \n",
            "                                                                 \n",
            " gru_1 (GRU)                 (None, 40, 16)            1248      \n",
            "                                                                 \n",
            " gru_2 (GRU)                 (None, 40, 8)             624       \n",
            "                                                                 \n",
            " gru_3 (GRU)                 (None, 4)                 168       \n",
            "                                                                 \n",
            " dense_1 (Dense)             (None, 1)                 5         \n",
            "                                                                 \n",
            "=================================================================\n",
            "Total params: 5,661\n",
            "Trainable params: 5,661\n",
            "Non-trainable params: 0\n",
            "_________________________________________________________________\n"
          ]
        }
      ]
    },
    {
      "cell_type": "code",
      "source": [],
      "metadata": {
        "id": "fS5uftnixZ25"
      },
      "execution_count": null,
      "outputs": []
    }
  ]
}